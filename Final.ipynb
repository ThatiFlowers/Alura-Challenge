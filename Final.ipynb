{
  "nbformat": 4,
  "nbformat_minor": 0,
  "metadata": {
    "colab": {
      "provenance": []
    },
    "kernelspec": {
      "name": "python3",
      "display_name": "Python 3"
    },
    "language_info": {
      "name": "python"
    }
  },
  "cells": [
    {
      "cell_type": "markdown",
      "source": [
        "### Importação dos dados\n",
        "\n"
      ],
      "metadata": {
        "id": "RhEdWd9YUR6H"
      }
    },
    {
      "cell_type": "code",
      "execution_count": null,
      "metadata": {
        "colab": {
          "base_uri": "https://localhost:8080/",
          "height": 258
        },
        "id": "T3EvaeQ_INIL",
        "outputId": "df344713-12f3-469a-b3cf-eb9b07fd25ac"
      },
      "outputs": [
        {
          "output_type": "execute_result",
          "data": {
            "text/plain": [
              "                 Produto Categoria do Produto    Preço      Frete  \\\n",
              "0     Assistente virtual          eletronicos   219.08   9.249790   \n",
              "1         Mesa de jantar               moveis   256.35  11.234305   \n",
              "2      Jogo de tabuleiro           brinquedos   279.51  21.262681   \n",
              "3            Micro-ondas     eletrodomesticos  1009.99  54.667344   \n",
              "4  Cadeira de escritório               moveis   446.99  26.964689   \n",
              "\n",
              "  Data da Compra        Vendedor Local da compra  Avaliação da compra  \\\n",
              "0     16/01/2021     Pedro Gomes              SP                    4   \n",
              "1     18/05/2022  Beatriz Moraes              RJ                    1   \n",
              "2     15/03/2021      João Souza              DF                    1   \n",
              "3     03/05/2022      João Souza              RS                    4   \n",
              "4     07/11/2020   Larissa Alves              MG                    5   \n",
              "\n",
              "  Tipo de pagamento  Quantidade de parcelas    lat    lon  \n",
              "0    cartao_credito                       8 -22.19 -48.79  \n",
              "1    cartao_credito                       4 -22.25 -42.66  \n",
              "2    cartao_credito                       1 -15.83 -47.86  \n",
              "3            boleto                       1 -30.17 -53.50  \n",
              "4            boleto                       1 -18.10 -44.38  "
            ],
            "text/html": [
              "\n",
              "  <div id=\"df-f8b8bcfd-ef30-4f30-be0c-6bb1475b39c5\" class=\"colab-df-container\">\n",
              "    <div>\n",
              "<style scoped>\n",
              "    .dataframe tbody tr th:only-of-type {\n",
              "        vertical-align: middle;\n",
              "    }\n",
              "\n",
              "    .dataframe tbody tr th {\n",
              "        vertical-align: top;\n",
              "    }\n",
              "\n",
              "    .dataframe thead th {\n",
              "        text-align: right;\n",
              "    }\n",
              "</style>\n",
              "<table border=\"1\" class=\"dataframe\">\n",
              "  <thead>\n",
              "    <tr style=\"text-align: right;\">\n",
              "      <th></th>\n",
              "      <th>Produto</th>\n",
              "      <th>Categoria do Produto</th>\n",
              "      <th>Preço</th>\n",
              "      <th>Frete</th>\n",
              "      <th>Data da Compra</th>\n",
              "      <th>Vendedor</th>\n",
              "      <th>Local da compra</th>\n",
              "      <th>Avaliação da compra</th>\n",
              "      <th>Tipo de pagamento</th>\n",
              "      <th>Quantidade de parcelas</th>\n",
              "      <th>lat</th>\n",
              "      <th>lon</th>\n",
              "    </tr>\n",
              "  </thead>\n",
              "  <tbody>\n",
              "    <tr>\n",
              "      <th>0</th>\n",
              "      <td>Assistente virtual</td>\n",
              "      <td>eletronicos</td>\n",
              "      <td>219.08</td>\n",
              "      <td>9.249790</td>\n",
              "      <td>16/01/2021</td>\n",
              "      <td>Pedro Gomes</td>\n",
              "      <td>SP</td>\n",
              "      <td>4</td>\n",
              "      <td>cartao_credito</td>\n",
              "      <td>8</td>\n",
              "      <td>-22.19</td>\n",
              "      <td>-48.79</td>\n",
              "    </tr>\n",
              "    <tr>\n",
              "      <th>1</th>\n",
              "      <td>Mesa de jantar</td>\n",
              "      <td>moveis</td>\n",
              "      <td>256.35</td>\n",
              "      <td>11.234305</td>\n",
              "      <td>18/05/2022</td>\n",
              "      <td>Beatriz Moraes</td>\n",
              "      <td>RJ</td>\n",
              "      <td>1</td>\n",
              "      <td>cartao_credito</td>\n",
              "      <td>4</td>\n",
              "      <td>-22.25</td>\n",
              "      <td>-42.66</td>\n",
              "    </tr>\n",
              "    <tr>\n",
              "      <th>2</th>\n",
              "      <td>Jogo de tabuleiro</td>\n",
              "      <td>brinquedos</td>\n",
              "      <td>279.51</td>\n",
              "      <td>21.262681</td>\n",
              "      <td>15/03/2021</td>\n",
              "      <td>João Souza</td>\n",
              "      <td>DF</td>\n",
              "      <td>1</td>\n",
              "      <td>cartao_credito</td>\n",
              "      <td>1</td>\n",
              "      <td>-15.83</td>\n",
              "      <td>-47.86</td>\n",
              "    </tr>\n",
              "    <tr>\n",
              "      <th>3</th>\n",
              "      <td>Micro-ondas</td>\n",
              "      <td>eletrodomesticos</td>\n",
              "      <td>1009.99</td>\n",
              "      <td>54.667344</td>\n",
              "      <td>03/05/2022</td>\n",
              "      <td>João Souza</td>\n",
              "      <td>RS</td>\n",
              "      <td>4</td>\n",
              "      <td>boleto</td>\n",
              "      <td>1</td>\n",
              "      <td>-30.17</td>\n",
              "      <td>-53.50</td>\n",
              "    </tr>\n",
              "    <tr>\n",
              "      <th>4</th>\n",
              "      <td>Cadeira de escritório</td>\n",
              "      <td>moveis</td>\n",
              "      <td>446.99</td>\n",
              "      <td>26.964689</td>\n",
              "      <td>07/11/2020</td>\n",
              "      <td>Larissa Alves</td>\n",
              "      <td>MG</td>\n",
              "      <td>5</td>\n",
              "      <td>boleto</td>\n",
              "      <td>1</td>\n",
              "      <td>-18.10</td>\n",
              "      <td>-44.38</td>\n",
              "    </tr>\n",
              "  </tbody>\n",
              "</table>\n",
              "</div>\n",
              "    <div class=\"colab-df-buttons\">\n",
              "\n",
              "  <div class=\"colab-df-container\">\n",
              "    <button class=\"colab-df-convert\" onclick=\"convertToInteractive('df-f8b8bcfd-ef30-4f30-be0c-6bb1475b39c5')\"\n",
              "            title=\"Convert this dataframe to an interactive table.\"\n",
              "            style=\"display:none;\">\n",
              "\n",
              "  <svg xmlns=\"http://www.w3.org/2000/svg\" height=\"24px\" viewBox=\"0 -960 960 960\">\n",
              "    <path d=\"M120-120v-720h720v720H120Zm60-500h600v-160H180v160Zm220 220h160v-160H400v160Zm0 220h160v-160H400v160ZM180-400h160v-160H180v160Zm440 0h160v-160H620v160ZM180-180h160v-160H180v160Zm440 0h160v-160H620v160Z\"/>\n",
              "  </svg>\n",
              "    </button>\n",
              "\n",
              "  <style>\n",
              "    .colab-df-container {\n",
              "      display:flex;\n",
              "      gap: 12px;\n",
              "    }\n",
              "\n",
              "    .colab-df-convert {\n",
              "      background-color: #E8F0FE;\n",
              "      border: none;\n",
              "      border-radius: 50%;\n",
              "      cursor: pointer;\n",
              "      display: none;\n",
              "      fill: #1967D2;\n",
              "      height: 32px;\n",
              "      padding: 0 0 0 0;\n",
              "      width: 32px;\n",
              "    }\n",
              "\n",
              "    .colab-df-convert:hover {\n",
              "      background-color: #E2EBFA;\n",
              "      box-shadow: 0px 1px 2px rgba(60, 64, 67, 0.3), 0px 1px 3px 1px rgba(60, 64, 67, 0.15);\n",
              "      fill: #174EA6;\n",
              "    }\n",
              "\n",
              "    .colab-df-buttons div {\n",
              "      margin-bottom: 4px;\n",
              "    }\n",
              "\n",
              "    [theme=dark] .colab-df-convert {\n",
              "      background-color: #3B4455;\n",
              "      fill: #D2E3FC;\n",
              "    }\n",
              "\n",
              "    [theme=dark] .colab-df-convert:hover {\n",
              "      background-color: #434B5C;\n",
              "      box-shadow: 0px 1px 3px 1px rgba(0, 0, 0, 0.15);\n",
              "      filter: drop-shadow(0px 1px 2px rgba(0, 0, 0, 0.3));\n",
              "      fill: #FFFFFF;\n",
              "    }\n",
              "  </style>\n",
              "\n",
              "    <script>\n",
              "      const buttonEl =\n",
              "        document.querySelector('#df-f8b8bcfd-ef30-4f30-be0c-6bb1475b39c5 button.colab-df-convert');\n",
              "      buttonEl.style.display =\n",
              "        google.colab.kernel.accessAllowed ? 'block' : 'none';\n",
              "\n",
              "      async function convertToInteractive(key) {\n",
              "        const element = document.querySelector('#df-f8b8bcfd-ef30-4f30-be0c-6bb1475b39c5');\n",
              "        const dataTable =\n",
              "          await google.colab.kernel.invokeFunction('convertToInteractive',\n",
              "                                                    [key], {});\n",
              "        if (!dataTable) return;\n",
              "\n",
              "        const docLinkHtml = 'Like what you see? Visit the ' +\n",
              "          '<a target=\"_blank\" href=https://colab.research.google.com/notebooks/data_table.ipynb>data table notebook</a>'\n",
              "          + ' to learn more about interactive tables.';\n",
              "        element.innerHTML = '';\n",
              "        dataTable['output_type'] = 'display_data';\n",
              "        await google.colab.output.renderOutput(dataTable, element);\n",
              "        const docLink = document.createElement('div');\n",
              "        docLink.innerHTML = docLinkHtml;\n",
              "        element.appendChild(docLink);\n",
              "      }\n",
              "    </script>\n",
              "  </div>\n",
              "\n",
              "\n",
              "    <div id=\"df-01be9300-79d9-4a2d-b773-170b9aacb43a\">\n",
              "      <button class=\"colab-df-quickchart\" onclick=\"quickchart('df-01be9300-79d9-4a2d-b773-170b9aacb43a')\"\n",
              "                title=\"Suggest charts\"\n",
              "                style=\"display:none;\">\n",
              "\n",
              "<svg xmlns=\"http://www.w3.org/2000/svg\" height=\"24px\"viewBox=\"0 0 24 24\"\n",
              "     width=\"24px\">\n",
              "    <g>\n",
              "        <path d=\"M19 3H5c-1.1 0-2 .9-2 2v14c0 1.1.9 2 2 2h14c1.1 0 2-.9 2-2V5c0-1.1-.9-2-2-2zM9 17H7v-7h2v7zm4 0h-2V7h2v10zm4 0h-2v-4h2v4z\"/>\n",
              "    </g>\n",
              "</svg>\n",
              "      </button>\n",
              "\n",
              "<style>\n",
              "  .colab-df-quickchart {\n",
              "      --bg-color: #E8F0FE;\n",
              "      --fill-color: #1967D2;\n",
              "      --hover-bg-color: #E2EBFA;\n",
              "      --hover-fill-color: #174EA6;\n",
              "      --disabled-fill-color: #AAA;\n",
              "      --disabled-bg-color: #DDD;\n",
              "  }\n",
              "\n",
              "  [theme=dark] .colab-df-quickchart {\n",
              "      --bg-color: #3B4455;\n",
              "      --fill-color: #D2E3FC;\n",
              "      --hover-bg-color: #434B5C;\n",
              "      --hover-fill-color: #FFFFFF;\n",
              "      --disabled-bg-color: #3B4455;\n",
              "      --disabled-fill-color: #666;\n",
              "  }\n",
              "\n",
              "  .colab-df-quickchart {\n",
              "    background-color: var(--bg-color);\n",
              "    border: none;\n",
              "    border-radius: 50%;\n",
              "    cursor: pointer;\n",
              "    display: none;\n",
              "    fill: var(--fill-color);\n",
              "    height: 32px;\n",
              "    padding: 0;\n",
              "    width: 32px;\n",
              "  }\n",
              "\n",
              "  .colab-df-quickchart:hover {\n",
              "    background-color: var(--hover-bg-color);\n",
              "    box-shadow: 0 1px 2px rgba(60, 64, 67, 0.3), 0 1px 3px 1px rgba(60, 64, 67, 0.15);\n",
              "    fill: var(--button-hover-fill-color);\n",
              "  }\n",
              "\n",
              "  .colab-df-quickchart-complete:disabled,\n",
              "  .colab-df-quickchart-complete:disabled:hover {\n",
              "    background-color: var(--disabled-bg-color);\n",
              "    fill: var(--disabled-fill-color);\n",
              "    box-shadow: none;\n",
              "  }\n",
              "\n",
              "  .colab-df-spinner {\n",
              "    border: 2px solid var(--fill-color);\n",
              "    border-color: transparent;\n",
              "    border-bottom-color: var(--fill-color);\n",
              "    animation:\n",
              "      spin 1s steps(1) infinite;\n",
              "  }\n",
              "\n",
              "  @keyframes spin {\n",
              "    0% {\n",
              "      border-color: transparent;\n",
              "      border-bottom-color: var(--fill-color);\n",
              "      border-left-color: var(--fill-color);\n",
              "    }\n",
              "    20% {\n",
              "      border-color: transparent;\n",
              "      border-left-color: var(--fill-color);\n",
              "      border-top-color: var(--fill-color);\n",
              "    }\n",
              "    30% {\n",
              "      border-color: transparent;\n",
              "      border-left-color: var(--fill-color);\n",
              "      border-top-color: var(--fill-color);\n",
              "      border-right-color: var(--fill-color);\n",
              "    }\n",
              "    40% {\n",
              "      border-color: transparent;\n",
              "      border-right-color: var(--fill-color);\n",
              "      border-top-color: var(--fill-color);\n",
              "    }\n",
              "    60% {\n",
              "      border-color: transparent;\n",
              "      border-right-color: var(--fill-color);\n",
              "    }\n",
              "    80% {\n",
              "      border-color: transparent;\n",
              "      border-right-color: var(--fill-color);\n",
              "      border-bottom-color: var(--fill-color);\n",
              "    }\n",
              "    90% {\n",
              "      border-color: transparent;\n",
              "      border-bottom-color: var(--fill-color);\n",
              "    }\n",
              "  }\n",
              "</style>\n",
              "\n",
              "      <script>\n",
              "        async function quickchart(key) {\n",
              "          const quickchartButtonEl =\n",
              "            document.querySelector('#' + key + ' button');\n",
              "          quickchartButtonEl.disabled = true;  // To prevent multiple clicks.\n",
              "          quickchartButtonEl.classList.add('colab-df-spinner');\n",
              "          try {\n",
              "            const charts = await google.colab.kernel.invokeFunction(\n",
              "                'suggestCharts', [key], {});\n",
              "          } catch (error) {\n",
              "            console.error('Error during call to suggestCharts:', error);\n",
              "          }\n",
              "          quickchartButtonEl.classList.remove('colab-df-spinner');\n",
              "          quickchartButtonEl.classList.add('colab-df-quickchart-complete');\n",
              "        }\n",
              "        (() => {\n",
              "          let quickchartButtonEl =\n",
              "            document.querySelector('#df-01be9300-79d9-4a2d-b773-170b9aacb43a button');\n",
              "          quickchartButtonEl.style.display =\n",
              "            google.colab.kernel.accessAllowed ? 'block' : 'none';\n",
              "        })();\n",
              "      </script>\n",
              "    </div>\n",
              "\n",
              "    </div>\n",
              "  </div>\n"
            ],
            "application/vnd.google.colaboratory.intrinsic+json": {
              "type": "dataframe",
              "variable_name": "loja",
              "summary": "{\n  \"name\": \"loja\",\n  \"rows\": 2359,\n  \"fields\": [\n    {\n      \"column\": \"Produto\",\n      \"properties\": {\n        \"dtype\": \"category\",\n        \"num_unique_values\": 51,\n        \"samples\": [\n          \"Viol\\u00e3o\",\n          \"Bola de basquete\",\n          \"Smartwatch\"\n        ],\n        \"semantic_type\": \"\",\n        \"description\": \"\"\n      }\n    },\n    {\n      \"column\": \"Categoria do Produto\",\n      \"properties\": {\n        \"dtype\": \"category\",\n        \"num_unique_values\": 8,\n        \"samples\": [\n          \"moveis\",\n          \"esporte e lazer\",\n          \"eletronicos\"\n        ],\n        \"semantic_type\": \"\",\n        \"description\": \"\"\n      }\n    },\n    {\n      \"column\": \"Pre\\u00e7o\",\n      \"properties\": {\n        \"dtype\": \"number\",\n        \"std\": 819.5827782539145,\n        \"min\": 10.07,\n        \"max\": 3969.38,\n        \"num_unique_values\": 2315,\n        \"samples\": [\n          446.11,\n          107.31,\n          65.86\n        ],\n        \"semantic_type\": \"\",\n        \"description\": \"\"\n      }\n    },\n    {\n      \"column\": \"Frete\",\n      \"properties\": {\n        \"dtype\": \"number\",\n        \"std\": 43.814183327408166,\n        \"min\": 0.0,\n        \"max\": 214.3770604781,\n        \"num_unique_values\": 2149,\n        \"samples\": [\n          83.815279607,\n          16.069664669,\n          14.0344876928\n        ],\n        \"semantic_type\": \"\",\n        \"description\": \"\"\n      }\n    },\n    {\n      \"column\": \"Data da Compra\",\n      \"properties\": {\n        \"dtype\": \"object\",\n        \"num_unique_values\": 1018,\n        \"samples\": [\n          \"15/09/2022\",\n          \"03/06/2020\",\n          \"06/11/2021\"\n        ],\n        \"semantic_type\": \"\",\n        \"description\": \"\"\n      }\n    },\n    {\n      \"column\": \"Vendedor\",\n      \"properties\": {\n        \"dtype\": \"category\",\n        \"num_unique_values\": 14,\n        \"samples\": [\n          \"Juliana Costa\",\n          \"Mariana Ferreira\",\n          \"Pedro Gomes\"\n        ],\n        \"semantic_type\": \"\",\n        \"description\": \"\"\n      }\n    },\n    {\n      \"column\": \"Local da compra\",\n      \"properties\": {\n        \"dtype\": \"category\",\n        \"num_unique_values\": 26,\n        \"samples\": [\n          \"TO\",\n          \"RN\",\n          \"SP\"\n        ],\n        \"semantic_type\": \"\",\n        \"description\": \"\"\n      }\n    },\n    {\n      \"column\": \"Avalia\\u00e7\\u00e3o da compra\",\n      \"properties\": {\n        \"dtype\": \"number\",\n        \"std\": 1,\n        \"min\": 1,\n        \"max\": 5,\n        \"num_unique_values\": 5,\n        \"samples\": [\n          1,\n          2,\n          5\n        ],\n        \"semantic_type\": \"\",\n        \"description\": \"\"\n      }\n    },\n    {\n      \"column\": \"Tipo de pagamento\",\n      \"properties\": {\n        \"dtype\": \"category\",\n        \"num_unique_values\": 4,\n        \"samples\": [\n          \"boleto\",\n          \"cartao_debito\",\n          \"cartao_credito\"\n        ],\n        \"semantic_type\": \"\",\n        \"description\": \"\"\n      }\n    },\n    {\n      \"column\": \"Quantidade de parcelas\",\n      \"properties\": {\n        \"dtype\": \"number\",\n        \"std\": 2,\n        \"min\": 1,\n        \"max\": 24,\n        \"num_unique_values\": 15,\n        \"samples\": [\n          7,\n          14,\n          8\n        ],\n        \"semantic_type\": \"\",\n        \"description\": \"\"\n      }\n    },\n    {\n      \"column\": \"lat\",\n      \"properties\": {\n        \"dtype\": \"number\",\n        \"std\": 5.372399916530833,\n        \"min\": -30.17,\n        \"max\": 1.41,\n        \"num_unique_values\": 26,\n        \"samples\": [\n          -9.46,\n          -5.81,\n          -22.19\n        ],\n        \"semantic_type\": \"\",\n        \"description\": \"\"\n      }\n    },\n    {\n      \"column\": \"lon\",\n      \"properties\": {\n        \"dtype\": \"number\",\n        \"std\": 4.183180020544179,\n        \"min\": -70.55,\n        \"max\": -36.59,\n        \"num_unique_values\": 26,\n        \"samples\": [\n          -48.26,\n          -36.59,\n          -48.79\n        ],\n        \"semantic_type\": \"\",\n        \"description\": \"\"\n      }\n    }\n  ]\n}"
            }
          },
          "metadata": {},
          "execution_count": 14
        }
      ],
      "source": [
        "import pandas as pd\n",
        "\n",
        "url = \"https://raw.githubusercontent.com/alura-es-cursos/challenge1-data-science/refs/heads/main/base-de-dados-challenge-1/loja_1.csv\"\n",
        "url2 = \"https://raw.githubusercontent.com/alura-es-cursos/challenge1-data-science/refs/heads/main/base-de-dados-challenge-1/loja_2.csv\"\n",
        "url3 = \"https://raw.githubusercontent.com/alura-es-cursos/challenge1-data-science/refs/heads/main/base-de-dados-challenge-1/loja_3.csv\"\n",
        "url4 = \"https://raw.githubusercontent.com/alura-es-cursos/challenge1-data-science/refs/heads/main/base-de-dados-challenge-1/loja_4.csv\"\n",
        "\n",
        "loja = pd.read_csv(url)\n",
        "loja2 = pd.read_csv(url2)\n",
        "loja3 = pd.read_csv(url3)\n",
        "loja4 = pd.read_csv(url4)\n",
        "\n",
        "loja.head()"
      ]
    },
    {
      "cell_type": "markdown",
      "source": [
        "#1. Análise do faturamento\n"
      ],
      "metadata": {
        "id": "X62IW3KFUIYm"
      }
    },
    {
      "cell_type": "code",
      "source": [
        "import pandas as pd\n",
        "\n",
        "# Carregar os dados\n",
        "url = \"https://raw.githubusercontent.com/alura-es-cursos/challenge1-data-science/refs/heads/main/base-de-dados-challenge-1/loja_1.csv\"\n",
        "url2 = \"https://raw.githubusercontent.com/alura-es-cursos/challenge1-data-science/refs/heads/main/base-de-dados-challenge-1/loja_2.csv\"\n",
        "url3 = \"https://raw.githubusercontent.com/alura-es-cursos/challenge1-data-science/refs/heads/main/base-de-dados-challenge-1/loja_3.csv\"\n",
        "url4 = \"https://raw.githubusercontent.com/alura-es-cursos/challenge1-data-science/refs/heads/main/base-de-dados-challenge-1/loja_4.csv\"\n",
        "\n",
        "\n",
        "loja = pd.read_csv(url)\n",
        "loja2 = pd.read_csv(url2)\n",
        "loja3 = pd.read_csv(url3)\n",
        "loja4 = pd.read_csv(url4)\n",
        "\n",
        "lojas = [loja, loja2, loja3, loja4]\n",
        "\n",
        "# Padronizar os nomes das colunas (tirar espaços e deixar minúsculo)\n",
        "for loja in lojas:\n",
        "    loja.columns = loja.columns.str.strip().str.lower()\n",
        "\n",
        "# Agora calcular os faturamentos usando apenas o 'preço'\n",
        "faturamentos = []\n",
        "\n",
        "for i, loja in enumerate(lojas, start=1):\n",
        "    faturamento_total = loja['preço'].sum()\n",
        "    faturamentos.append(faturamento_total)\n",
        "    print(f\"O faturamento da loja {i} foi de R${faturamento_total:.2f}\")\n",
        "\n",
        "# Faturamento total geral\n",
        "faturamento_total_geral = sum(faturamentos)\n",
        "print(f\"\\nO faturamento total das quatro lojas foi de R${faturamento_total_geral:.2f}\")\n"
      ],
      "metadata": {
        "colab": {
          "base_uri": "https://localhost:8080/"
        },
        "id": "UnwIoZWXj_Qg",
        "outputId": "b89b91dc-b00c-4567-db05-a90bf185bef9"
      },
      "execution_count": null,
      "outputs": [
        {
          "output_type": "stream",
          "name": "stdout",
          "text": [
            "O faturamento da loja 1 foi de R$1534509.12\n",
            "O faturamento da loja 2 foi de R$1488459.06\n",
            "O faturamento da loja 3 foi de R$1464025.03\n",
            "O faturamento da loja 4 foi de R$1384497.58\n",
            "\n",
            "O faturamento total das quatro lojas foi de R$5871490.79\n"
          ]
        }
      ]
    },
    {
      "cell_type": "code",
      "source": [
        "import matplotlib.pyplot as plt\n",
        "\n",
        "# Seus dados de cada loja (substitua pelos seus valores reais)\n",
        "faturamento_loja1 = 1534509.12\n",
        "faturamento_loja2 = 1488459.06\n",
        "faturamento_loja3 = 1464025.03\n",
        "faturamento_loja4 = 1384497.58\n",
        "\n",
        "# Crie a lista com os dados das lojas\n",
        "faturamentos = [faturamento_loja1, faturamento_loja2, faturamento_loja3, faturamento_loja4]\n",
        "\n",
        "# Rótulos para cada fatia do pizza (nomes das lojas)\n",
        "rotulos = ['Loja 1', 'Loja 2', 'Loja 3', 'Loja 4']\n",
        "\n",
        "# Cores para cada fatia (opcional)\n",
        "cores = ['skyblue', 'silver', 'lightgreen', 'gold']\n",
        "\n",
        "# Destacar uma fatia (opcional)\n",
        "destaque = (0.1, 0, 0, 0)  # Destaca a primeira loja\n",
        "\n",
        "# Cria o gráfico de pizza\n",
        "plt.figure(figsize=(8, 8))  # Define o tamanho da figura\n",
        "plt.pie(faturamentos, labels=rotulos, colors=cores, autopct='%1.1f%%', startangle=90, explode=destaque)\n",
        "\n",
        "# Garante que o círculo do pizza não fique oval\n",
        "plt.axis('equal')\n",
        "\n",
        "# Adiciona um título ao gráfico\n",
        "plt.title('Faturamento das Lojas')\n",
        "\n",
        "# Exibe o gráfico\n",
        "plt.show()\n",
        "\n"
      ],
      "metadata": {
        "id": "52jnV9XTffml",
        "colab": {
          "base_uri": "https://localhost:8080/",
          "height": 675
        },
        "outputId": "84f71f44-49c3-43d8-f599-bcf91d69b5fa"
      },
      "execution_count": null,
      "outputs": [
        {
          "output_type": "display_data",
          "data": {
            "text/plain": [
              "<Figure size 800x800 with 1 Axes>"
            ],
            "image/png": "[encoded data removed]"
          },
          "metadata": {}
        }
      ]
    },
    {
      "cell_type": "markdown",
      "source": [
        "# 2. Vendas por Categoria\n"
      ],
      "metadata": {
        "id": "2V_vcAPzWZmR"
      }
    },
    {
      "cell_type": "code",
      "source": [
        "import pandas as pd\n",
        "\n",
        "# Carregar os dados\n",
        "loja1 = pd.read_csv(url)\n",
        "loja2 = pd.read_csv(url2)\n",
        "loja3 = pd.read_csv(url3)\n",
        "loja4 = pd.read_csv(url4)\n",
        "\n",
        "# Ajustar os nomes das colunas para minúsculas e remover espaços extras\n",
        "loja1.columns = loja1.columns.str.strip().str.lower()\n",
        "loja2.columns = loja2.columns.str.strip().str.lower()\n",
        "loja3.columns = loja3.columns.str.strip().str.lower()\n",
        "loja4.columns = loja4.columns.str.strip().str.lower()\n",
        "\n",
        "# Colocar as lojas em uma lista\n",
        "lojas = [loja1, loja2, loja3, loja4]\n",
        "\n",
        "# Criar uma lista para armazenar os resultados de vendas por categoria\n",
        "vendas_por_categoria = []\n",
        "\n",
        "# Processar cada loja\n",
        "for i, loja in enumerate(lojas, start=1):\n",
        "    # Agrupar por 'Categoria do Produto' e somar o 'Preço'\n",
        "    vendas_categoria = loja.groupby('categoria do produto')['preço'].sum().reset_index()\n",
        "\n",
        "    # Adicionar a loja ao DataFrame para saber de qual loja é cada categoria\n",
        "    vendas_categoria['loja'] = f'Loja {i}'\n",
        "\n",
        "    # Adicionar os resultados da loja atual na lista\n",
        "    vendas_por_categoria.append(vendas_categoria)\n",
        "\n",
        "# Combinar os resultados de todas as lojas\n",
        "resultado_final = pd.concat(vendas_por_categoria)\n",
        "\n",
        "# Mostrar o resultado final\n",
        "print(resultado_final)\n"
      ],
      "metadata": {
        "id": "A34YupIuYhfF",
        "colab": {
          "base_uri": "https://localhost:8080/"
        },
        "outputId": "4c218370-1544-4269-aaef-69d40a1198aa"
      },
      "execution_count": null,
      "outputs": [
        {
          "output_type": "stream",
          "name": "stdout",
          "text": [
            "    categoria do produto      preço    loja\n",
            "0             brinquedos   23993.78  Loja 1\n",
            "1       eletrodomesticos  484913.36  Loja 1\n",
            "2            eletronicos  572659.23  Loja 1\n",
            "3        esporte e lazer   52387.55  Loja 1\n",
            "4  instrumentos musicais  121731.69  Loja 1\n",
            "5                 livros   11713.92  Loja 1\n",
            "6                 moveis  250178.11  Loja 1\n",
            "7  utilidades domesticas   16931.48  Loja 1\n",
            "0             brinquedos   21262.21  Loja 2\n",
            "1       eletrodomesticos  464758.13  Loja 2\n",
            "2            eletronicos  547773.71  Loja 2\n",
            "3        esporte e lazer   46326.09  Loja 2\n",
            "4  instrumentos musicais  139987.03  Loja 2\n",
            "5                 livros   13454.35  Loja 2\n",
            "6                 moveis  235234.68  Loja 2\n",
            "7  utilidades domesticas   19662.86  Loja 2\n",
            "0             brinquedos   25869.20  Loja 3\n",
            "1       eletrodomesticos  438984.89  Loja 3\n",
            "2            eletronicos  547699.92  Loja 3\n",
            "3        esporte e lazer   47456.10  Loja 3\n",
            "4  instrumentos musicais  103174.45  Loja 3\n",
            "5                 livros   12664.70  Loja 3\n",
            "6                 moveis  268095.56  Loja 3\n",
            "7  utilidades domesticas   20080.21  Loja 3\n",
            "0             brinquedos   27015.67  Loja 4\n",
            "1       eletrodomesticos  377680.65  Loja 4\n",
            "2            eletronicos  545966.86  Loja 4\n",
            "3        esporte e lazer   44465.65  Loja 4\n",
            "4  instrumentos musicais  100136.50  Loja 4\n",
            "5                 livros   12427.77  Loja 4\n",
            "6                 moveis  256705.65  Loja 4\n",
            "7  utilidades domesticas   20098.83  Loja 4\n"
          ]
        }
      ]
    },
    {
      "cell_type": "code",
      "source": [],
      "metadata": {
        "id": "yZR6cOjXYSk1"
      },
      "execution_count": null,
      "outputs": []
    },
    {
      "cell_type": "markdown",
      "source": [
        "# 3. Média de Avaliação das Lojas"
      ],
      "metadata": {
        "id": "Rq6tU_xSY3jk"
      }
    },
    {
      "cell_type": "code",
      "source": [
        "import pandas as pd\n",
        "\n",
        "# Carregar os dados das lojas\n",
        "loja1 = pd.read_csv(url)\n",
        "loja2 = pd.read_csv(url2)\n",
        "loja3 = pd.read_csv(url3)\n",
        "loja4 = pd.read_csv(url4)\n",
        "\n",
        "# Lista de lojas\n",
        "lojas = [loja1, loja2, loja3, loja4]\n",
        "\n",
        "# Ajustar os nomes das colunas para minúsculas e remover espaços extras\n",
        "loja1.columns = loja1.columns.str.strip().str.lower()\n",
        "loja2.columns = loja2.columns.str.strip().str.lower()\n",
        "loja3.columns = loja3.columns.str.strip().str.lower()\n",
        "loja4.columns = loja4.columns.str.strip().str.lower()\n",
        "\n",
        "\n",
        "# Criar lista para armazenar as médias das avaliações\n",
        "avaliacoes = []\n",
        "\n",
        "# Processar cada loja\n",
        "for i, loja in enumerate(lojas, start=1):\n",
        "# Calcular a média de avaliação\n",
        "media_avaliacao = loja['avaliação da compra'].mean()\n",
        "\n",
        "# Armazenar o resultado\n",
        "    avaliacoes.append({'Loja': f'Loja {i}', 'Média de Avaliação': media_avaliacao})\n",
        "\n",
        "# Transformar em DataFrame\n",
        "avaliacoes_df = pd.DataFrame(avaliacoes)\n",
        "\n",
        "# Mostrar as médias de avaliação por loja\n",
        "print(avaliacoes_df)\n"
      ],
      "metadata": {
        "id": "bh3jjjJwY5MU",
        "colab": {
          "base_uri": "https://localhost:8080/"
        },
        "outputId": "920eba30-29c3-4ba6-b1b6-a2dcc30e1f08"
      },
      "execution_count": null,
      "outputs": [
        {
          "output_type": "stream",
          "name": "stdout",
          "text": [
            "     Loja  Média de Avaliação\n",
            "0  Loja 1            3.976685\n",
            "1  Loja 2            4.037304\n",
            "2  Loja 3            4.048326\n",
            "3  Loja 4            3.995759\n"
          ]
        }
      ]
    },
    {
      "cell_type": "code",
      "source": [
        "import matplotlib.pyplot as plt\n",
        "import pandas as pd\n",
        "\n",
        "# Seu DataFrame de médias de avaliação (obtido do seu código anterior)\n",
        "data = {'Loja': ['Loja 1', 'Loja 2', 'Loja 3', 'Loja 4'],\n",
        "        'Média de Avaliação': [4.23, 4.56, 4.11, 4.38]}\n",
        "avaliacoes_df = pd.DataFrame(data)\n",
        "\n",
        "# Cores para as barras (opcional)\n",
        "cores = ['skyblue', 'Silver', 'lightgreen', 'gold']\n",
        "\n",
        "# Cria o gráfico de barras\n",
        "plt.figure(figsize=(8, 6))\n",
        "plt.bar(avaliacoes_df['Loja'], avaliacoes_df['Média de Avaliação'], color=cores)\n",
        "\n",
        "# Adiciona os valores das médias acima das barras\n",
        "for i, v in enumerate(avaliacoes_df['Média de Avaliação']):\n",
        "    plt.text(i, v + 0.05, f'{v:.2f}', ha='center')\n",
        "\n",
        "# Adiciona rótulos aos eixos e um título\n",
        "plt.xlabel('Loja')\n",
        "plt.ylabel('Média de Avaliação')\n",
        "plt.title('Média de Avaliação por Loja')\n",
        "\n",
        "# Adiciona uma grade vertical para melhor visualização (opcional)\n",
        "plt.grid(axis='y', linestyle='--')\n",
        "\n",
        "# Ajusta o limite do eixo y para melhor visualização\n",
        "plt.ylim(0, avaliacoes_df['Média de Avaliação'].max() + 0.2)\n",
        "\n",
        "# Exibe o gráfico\n",
        "plt.tight_layout()\n",
        "plt.show()"
      ],
      "metadata": {
        "id": "I0KkjPoTY88F",
        "colab": {
          "base_uri": "https://localhost:8080/",
          "height": 607
        },
        "outputId": "8e52b785-b296-4926-d6f0-fd5b09501d3c"
      },
      "execution_count": null,
      "outputs": [
        {
          "output_type": "display_data",
          "data": {
            "text/plain": [
              "<Figure size 800x600 with 1 Axes>"
            ],
            "image/png": "[encoded data removed]"
          },
          "metadata": {}
        }
      ]
    },
    {
      "cell_type": "markdown",
      "source": [],
      "metadata": {
        "id": "4QcxU0eG0prB"
      }
    },
    {
      "cell_type": "markdown",
      "source": [
        "# 4. Produtos Mais e Menos Vendidos"
      ],
      "metadata": {
        "id": "DmNp1KPBZCm-"
      }
    },
    {
      "cell_type": "code",
      "source": [
        "import pandas as pd\n",
        "\n",
        "# Carregar os dados\n",
        "loja1 = pd.read_csv(url)\n",
        "loja2 = pd.read_csv(url2)\n",
        "loja3 = pd.read_csv(url3)\n",
        "loja4 = pd.read_csv(url4)\n",
        "\n",
        "# Juntar os dados de todas as lojas\n",
        "df = pd.concat([loja1, loja2, loja3, loja4])\n",
        "\n",
        "# Renomeando a coluna para padronizar, se quiser:\n",
        "df.rename(columns={\"Produto\": \"produto\"}, inplace=True)\n",
        "\n",
        "# Contar quantas vezes cada produto foi vendido\n",
        "vendas_agrupadas = df['produto'].value_counts()\n",
        "\n",
        "# Verificar se há dados\n",
        "if not vendas_agrupadas.empty:\n",
        "    mais_vendido = vendas_agrupadas.idxmax()\n",
        "    quantidade_mais = vendas_agrupadas.max()\n",
        "\n",
        "    menos_vendido = vendas_agrupadas.idxmin()\n",
        "    quantidade_menos = vendas_agrupadas.min()\n",
        "\n",
        "    print(f\"Produto mais vendido: {mais_vendido} ({quantidade_mais} unidades)\")\n",
        "    print(f\"Produto menos vendido: {menos_vendido} ({quantidade_menos} unidades)\")\n",
        "else:\n",
        "    print(\"Nenhum produto encontrado.\")\n",
        "\n"
      ],
      "metadata": {
        "id": "qoyjqijQZHfF",
        "colab": {
          "base_uri": "https://localhost:8080/"
        },
        "outputId": "746f479a-71f3-45b5-aa7e-264028e608ec"
      },
      "execution_count": null,
      "outputs": [
        {
          "output_type": "stream",
          "name": "stdout",
          "text": [
            "Produto mais vendido: Cômoda (210 unidades)\n",
            "Produto menos vendido: Celular ABXY (157 unidades)\n"
          ]
        }
      ]
    },
    {
      "cell_type": "code",
      "source": [],
      "metadata": {
        "id": "0Sw3sd4IZIGW"
      },
      "execution_count": null,
      "outputs": []
    },
    {
      "cell_type": "markdown",
      "source": [
        "# 5. Frete Médio por Loja\n"
      ],
      "metadata": {
        "id": "Fl0cGi3bZKqU"
      }
    },
    {
      "cell_type": "code",
      "source": [
        "import pandas as pd\n",
        "\n",
        "# Carregando os dados\n",
        "loja1 = pd.read_csv(url)\n",
        "loja2 = pd.read_csv(url2)\n",
        "loja3 = pd.read_csv(url3)\n",
        "loja4 = pd.read_csv(url4)\n",
        "\n",
        "# Adicionando o nome da loja como coluna\n",
        "loja1['Loja'] = 'Loja 1'\n",
        "loja2['Loja'] = 'Loja 2'\n",
        "loja3['Loja'] = 'Loja 3'\n",
        "loja4['Loja'] = 'Loja 4'\n",
        "\n",
        "# Juntando tudo em um único DataFrame\n",
        "df = pd.concat([loja1, loja2, loja3, loja4])\n",
        "\n",
        "# Verificando se a coluna de frete está presente\n",
        "if 'Frete' in df.columns and 'Loja' in df.columns:\n",
        "    # Calcular frete médio por loja\n",
        "    frete_medio = df.groupby('Loja')['Frete'].mean().round(2)\n",
        "    print(\"Frete médio por loja:\")\n",
        "    print(frete_medio)\n",
        "else:\n",
        "    print(\"Coluna 'Frete' não encontrada nos dados.\")\n"
      ],
      "metadata": {
        "id": "S2JeaCykZNy9",
        "colab": {
          "base_uri": "https://localhost:8080/"
        },
        "outputId": "bba7e5cc-bf0d-4c1e-977d-58b5c959d051"
      },
      "execution_count": null,
      "outputs": [
        {
          "output_type": "stream",
          "name": "stdout",
          "text": [
            "Frete médio por loja:\n",
            "Loja\n",
            "Loja 1    34.69\n",
            "Loja 2    33.62\n",
            "Loja 3    33.07\n",
            "Loja 4    31.28\n",
            "Name: Frete, dtype: float64\n"
          ]
        }
      ]
    },
    {
      "cell_type": "code",
      "source": [
        "\n",
        "   import matplotlib.pyplot as plt\n",
        "import pandas as pd\n",
        "\n",
        "# Seus dados de frete médio por loja (obtidos do seu código anterior)\n",
        "frete_medio = pd.Series({\n",
        "    'Loja 1': 34.69,\n",
        "    'Loja 2': 33.62,\n",
        "    'Loja 3': 33.07,\n",
        "    'Loja 4': 31.28\n",
        "})\n",
        "\n",
        "# Nomes das lojas (para o eixo x e rótulos)\n",
        "nomes_lojas = frete_medio.index.tolist()\n",
        "valores_frete = frete_medio.values\n",
        "\n",
        "# Cores para cada ponto (opcional)\n",
        "cores = ['skyblue', 'silver', 'lightgreen', 'gold']\n",
        "\n",
        "# Cria o gráfico de dispersão\n",
        "plt.figure(figsize=(8, 6))\n",
        "plt.scatter(nomes_lojas, valores_frete, c=cores, s=150)\n",
        "\n",
        "# Adiciona os valores do frete médio acima de cada bolinha\n",
        "for i, valor in enumerate(valores_frete):\n",
        "    plt.annotate(f'R$ {valor:.2f}', (nomes_lojas[i], valor),\n",
        "                 textcoords=\"offset points\", xytext=(0, 10), ha='center')\n",
        "\n",
        "# Adiciona rótulos aos eixos e um título\n",
        "plt.xlabel('Loja')\n",
        "plt.ylabel('Frete Médio (R$)')\n",
        "plt.title('Frete Médio por Loja')\n",
        "\n",
        "# Exibe o gráfico\n",
        "plt.grid(axis='y', linestyle='--')  # Adiciona uma grade horizontal para melhor visualização\n",
        "plt.tight_layout()  # Ajusta o layout para evitar cortes\n",
        "plt.show()"
      ],
      "metadata": {
        "id": "0tSdCie9ZQlt",
        "colab": {
          "base_uri": "https://localhost:8080/",
          "height": 607
        },
        "outputId": "c173db9f-75f5-41d5-8075-b377bd250fb4"
      },
      "execution_count": null,
      "outputs": [
        {
          "output_type": "display_data",
          "data": {
            "text/plain": [
              "<Figure size 800x600 with 1 Axes>"
            ],
            "image/png": "[encoded data removed]"
          },
          "metadata": {}
        }
      ]
    },
    {
      "cell_type": "markdown",
      "source": [
        "# relatório\n",
        "\n"
      ],
      "metadata": {
        "id": "b7DkUVJp0r-w"
      }
    },
    {
      "cell_type": "markdown",
      "source": [],
      "metadata": {
        "id": "PGxEQ4aW03Xr"
      }
    },
    {
      "cell_type": "code",
      "source": [
        "# Por meio do estudo de gráficos e análise de faturamento de cada loja, foi possível verificar que a loja_4 é a loja menos rentável, apesar de ser bem avaliada.Logo é a loja que deve ser vendida.\n",
        "\n"
      ],
      "metadata": {
        "id": "GQiYGjDK6CpA"
      },
      "execution_count": 1,
      "outputs": []
    }
  ]
}